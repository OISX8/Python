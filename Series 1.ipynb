{
 "cells": [
  {
   "cell_type": "code",
   "execution_count": 4,
   "id": "cfdc3145",
   "metadata": {},
   "outputs": [
    {
     "name": "stdout",
     "output_type": "stream",
     "text": [
      "Enter the value of n:5\n",
      "Enter the value of x:2\n",
      "1\n",
      "-2\n",
      "4\n",
      "-8\n",
      "16\n",
      "-32\n"
     ]
    }
   ],
   "source": [
    "sum=0\n",
    "n=int(input(\"Enter the value of n:\"))\n",
    "x=int(input(\"Enter the value of x:\"))\n",
    "for n in range(0,n+1,1):\n",
    "    sum=x**n\n",
    "    print(sum)\n",
    "    x=x*-1\n",
    "    "
   ]
  },
  {
   "cell_type": "code",
   "execution_count": null,
   "id": "b883702d",
   "metadata": {},
   "outputs": [],
   "source": []
  }
 ],
 "metadata": {
  "kernelspec": {
   "display_name": "Python 3 (ipykernel)",
   "language": "python",
   "name": "python3"
  },
  "language_info": {
   "codemirror_mode": {
    "name": "ipython",
    "version": 3
   },
   "file_extension": ".py",
   "mimetype": "text/x-python",
   "name": "python",
   "nbconvert_exporter": "python",
   "pygments_lexer": "ipython3",
   "version": "3.10.9"
  }
 },
 "nbformat": 4,
 "nbformat_minor": 5
}
