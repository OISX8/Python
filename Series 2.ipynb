{
 "cells": [
  {
   "cell_type": "code",
   "execution_count": 4,
   "id": "c8784aec",
   "metadata": {},
   "outputs": [
    {
     "name": "stdout",
     "output_type": "stream",
     "text": [
      "Enter the value of n:2\n",
      "Enter the value of x:2\n",
      "4.0\n"
     ]
    }
   ],
   "source": [
    "n= int(input(\"Enter the value of n:\"))\n",
    "x= int(input(\"Enter the value of x:\"))\n",
    "sum=0\n",
    "for n in range(1, n+1, 1):\n",
    "    f=1\n",
    "    for i in range(1, n+1, 1):\n",
    "        f*=i\n",
    "    sum+=(x**n)/f\n",
    "print(sum)"
   ]
  },
  {
   "cell_type": "code",
   "execution_count": null,
   "id": "f2c3d54e",
   "metadata": {},
   "outputs": [],
   "source": []
  }
 ],
 "metadata": {
  "kernelspec": {
   "display_name": "Python 3 (ipykernel)",
   "language": "python",
   "name": "python3"
  },
  "language_info": {
   "codemirror_mode": {
    "name": "ipython",
    "version": 3
   },
   "file_extension": ".py",
   "mimetype": "text/x-python",
   "name": "python",
   "nbconvert_exporter": "python",
   "pygments_lexer": "ipython3",
   "version": "3.10.9"
  }
 },
 "nbformat": 4,
 "nbformat_minor": 5
}
